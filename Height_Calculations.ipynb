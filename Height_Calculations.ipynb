{
  "nbformat": 4,
  "nbformat_minor": 0,
  "metadata": {
    "colab": {
      "name": "Height_Calculations",
      "provenance": [],
      "collapsed_sections": [],
      "authorship_tag": "ABX9TyOyMVyh6ejnlMEjnQv2O4RD",
      "include_colab_link": true
    },
    "kernelspec": {
      "name": "python3",
      "display_name": "Python 3"
    }
  },
  "cells": [
    {
      "cell_type": "markdown",
      "metadata": {
        "id": "view-in-github",
        "colab_type": "text"
      },
      "source": [
        "<a href=\"https://colab.research.google.com/github/Kyrylo-Bakumenko/Blind_Rubiks_Cube_Solver/blob/main/Height_Calculations.ipynb\" target=\"_parent\"><img src=\"https://colab.research.google.com/assets/colab-badge.svg\" alt=\"Open In Colab\"/></a>"
      ]
    },
    {
      "cell_type": "code",
      "metadata": {
        "id": "DxhSlFfFD0UQ",
        "colab": {
          "base_uri": "https://localhost:8080/",
          "height": 353
        },
        "outputId": "641de132-fa27-4188-8800-84786489c288"
      },
      "source": [
        "!pip install filterpy\n",
        "!pip install sympy"
      ],
      "execution_count": null,
      "outputs": [
        {
          "output_type": "stream",
          "text": [
            "Collecting filterpy\n",
            "\u001b[?25l  Downloading https://files.pythonhosted.org/packages/f6/1d/ac8914360460fafa1990890259b7fa5ef7ba4cd59014e782e4ab3ab144d8/filterpy-1.4.5.zip (177kB)\n",
            "\r\u001b[K     |█▉                              | 10kB 17.6MB/s eta 0:00:01\r\u001b[K     |███▊                            | 20kB 1.7MB/s eta 0:00:01\r\u001b[K     |█████▌                          | 30kB 2.3MB/s eta 0:00:01\r\u001b[K     |███████▍                        | 40kB 2.5MB/s eta 0:00:01\r\u001b[K     |█████████▏                      | 51kB 2.0MB/s eta 0:00:01\r\u001b[K     |███████████                     | 61kB 2.3MB/s eta 0:00:01\r\u001b[K     |████████████▉                   | 71kB 2.6MB/s eta 0:00:01\r\u001b[K     |██████████████▊                 | 81kB 2.8MB/s eta 0:00:01\r\u001b[K     |████████████████▋               | 92kB 2.9MB/s eta 0:00:01\r\u001b[K     |██████████████████▍             | 102kB 2.8MB/s eta 0:00:01\r\u001b[K     |████████████████████▎           | 112kB 2.8MB/s eta 0:00:01\r\u001b[K     |██████████████████████          | 122kB 2.8MB/s eta 0:00:01\r\u001b[K     |████████████████████████        | 133kB 2.8MB/s eta 0:00:01\r\u001b[K     |█████████████████████████▊      | 143kB 2.8MB/s eta 0:00:01\r\u001b[K     |███████████████████████████▋    | 153kB 2.8MB/s eta 0:00:01\r\u001b[K     |█████████████████████████████▌  | 163kB 2.8MB/s eta 0:00:01\r\u001b[K     |███████████████████████████████▎| 174kB 2.8MB/s eta 0:00:01\r\u001b[K     |████████████████████████████████| 184kB 2.8MB/s \n",
            "\u001b[?25hRequirement already satisfied: numpy in /usr/local/lib/python3.6/dist-packages (from filterpy) (1.18.5)\n",
            "Requirement already satisfied: scipy in /usr/local/lib/python3.6/dist-packages (from filterpy) (1.4.1)\n",
            "Requirement already satisfied: matplotlib in /usr/local/lib/python3.6/dist-packages (from filterpy) (3.2.2)\n",
            "Requirement already satisfied: kiwisolver>=1.0.1 in /usr/local/lib/python3.6/dist-packages (from matplotlib->filterpy) (1.2.0)\n",
            "Requirement already satisfied: python-dateutil>=2.1 in /usr/local/lib/python3.6/dist-packages (from matplotlib->filterpy) (2.8.1)\n",
            "Requirement already satisfied: cycler>=0.10 in /usr/local/lib/python3.6/dist-packages (from matplotlib->filterpy) (0.10.0)\n",
            "Requirement already satisfied: pyparsing!=2.0.4,!=2.1.2,!=2.1.6,>=2.0.1 in /usr/local/lib/python3.6/dist-packages (from matplotlib->filterpy) (2.4.7)\n",
            "Requirement already satisfied: six>=1.5 in /usr/local/lib/python3.6/dist-packages (from python-dateutil>=2.1->matplotlib->filterpy) (1.12.0)\n",
            "Building wheels for collected packages: filterpy\n",
            "  Building wheel for filterpy (setup.py) ... \u001b[?25l\u001b[?25hdone\n",
            "  Created wheel for filterpy: filename=filterpy-1.4.5-cp36-none-any.whl size=110451 sha256=8d12b6b109de42a883bf58dca04da002361161b35e3f91b2426756f5d426d3d2\n",
            "  Stored in directory: /root/.cache/pip/wheels/c3/0c/dd/e92392c3f38a41371602d99fc77d6c1d42aadbf0c6afccdd02\n",
            "Successfully built filterpy\n",
            "Installing collected packages: filterpy\n",
            "Successfully installed filterpy-1.4.5\n",
            "Requirement already satisfied: sympy in /usr/local/lib/python3.6/dist-packages (1.1.1)\n",
            "Requirement already satisfied: mpmath>=0.19 in /usr/local/lib/python3.6/dist-packages (from sympy) (1.1.0)\n"
          ],
          "name": "stdout"
        }
      ]
    },
    {
      "cell_type": "code",
      "metadata": {
        "id": "33hhGfkGZFq5"
      },
      "source": [
        "import pandas as pd\n",
        "import numpy as np\n",
        "from autograd import grad\n",
        "from autograd import elementwise_grad as egrad\n",
        "# curve-fit() function imported from scipy \n",
        "from scipy.optimize import curve_fit \n",
        "  \n",
        "from matplotlib import pyplot as plt \n",
        "plt.rcParams['figure.figsize'] = (8, 10)\n",
        "plt.rcParams['axes.facecolor'] = '#fff'\n",
        "plt.rcParams['axes.edgecolor'] = '#cfcfcf'\n",
        "plt.rcParams['axes.grid'] = True\n",
        "plt.rcParams['grid.alpha'] = 1\n",
        "plt.rcParams['grid.color'] = \"#cccccc\""
      ],
      "execution_count": null,
      "outputs": []
    },
    {
      "cell_type": "code",
      "metadata": {
        "id": "wAdUiNxSLKIK"
      },
      "source": [
        "from filterpy.kalman import FixedLagSmoother, KalmanFilter\n",
        "import numpy.random as random\n",
        "\n",
        "def kf_smooth(zs):\n",
        "  fls = FixedLagSmoother(dim_x=2, dim_z=1, N=10)\n",
        "\n",
        "  fls.x = np.array([0., .5])\n",
        "  fls.F = np.array([[1.,1.],\n",
        "                    [0.,1.]])\n",
        "\n",
        "  fls.H = np.array([[1.,0.]])\n",
        "  fls.P *= 200\n",
        "  fls.R *= 5.\n",
        "  fls.Q *= 0.001\n",
        "\n",
        "  kf = KalmanFilter(dim_x=2, dim_z=1)\n",
        "  kf.x = np.array([0., .5])\n",
        "  kf.F = np.array([[1.,1.],\n",
        "                  [0.,1.]])\n",
        "  kf.H = np.array([[1.,0.]])\n",
        "  kf.P *= 200\n",
        "  kf.R *= 5.\n",
        "  kf.Q *= 0.001\n",
        "\n",
        "  N = 4 # size of lag\n",
        "\n",
        "  # nom =  df['Time'][1:]\n",
        "  # zs = df.Altitude[1:]\n",
        "  # zs = df.Velocity[1:]\n",
        "\n",
        "  for z in zs:\n",
        "      fls.smooth(z)\n",
        "      \n",
        "  kf_x, _, _, _ = kf.batch_filter(zs)\n",
        "  x_smooth = np.array(fls.xSmooth)[:, 0]\n",
        "\n",
        "  return x_smooth, kf_x[:, 0]\n"
      ],
      "execution_count": null,
      "outputs": []
    },
    {
      "cell_type": "code",
      "metadata": {
        "id": "owLXJVo2xv2F"
      },
      "source": [
        "MASS = 0.420"
      ],
      "execution_count": null,
      "outputs": []
    },
    {
      "cell_type": "code",
      "metadata": {
        "id": "NVgRcnRtaASY"
      },
      "source": [
        "df = pd.read_excel('Rocket Velocity Targets.xls', sheet_name='Sheet1')"
      ],
      "execution_count": null,
      "outputs": []
    },
    {
      "cell_type": "code",
      "metadata": {
        "id": "CpoBSGKjaRrZ",
        "colab": {
          "base_uri": "https://localhost:8080/",
          "height": 195
        },
        "outputId": "333defb1-ff2d-47ee-84a2-e9140087ec40"
      },
      "source": [
        "df.head()"
      ],
      "execution_count": null,
      "outputs": [
        {
          "output_type": "execute_result",
          "data": {
            "text/html": [
              "<div>\n",
              "<style scoped>\n",
              "    .dataframe tbody tr th:only-of-type {\n",
              "        vertical-align: middle;\n",
              "    }\n",
              "\n",
              "    .dataframe tbody tr th {\n",
              "        vertical-align: top;\n",
              "    }\n",
              "\n",
              "    .dataframe thead th {\n",
              "        text-align: right;\n",
              "    }\n",
              "</style>\n",
              "<table border=\"1\" class=\"dataframe\">\n",
              "  <thead>\n",
              "    <tr style=\"text-align: right;\">\n",
              "      <th></th>\n",
              "      <th>Time</th>\n",
              "      <th>Altitude</th>\n",
              "    </tr>\n",
              "  </thead>\n",
              "  <tbody>\n",
              "    <tr>\n",
              "      <th>0</th>\n",
              "      <td>0.90</td>\n",
              "      <td>0</td>\n",
              "    </tr>\n",
              "    <tr>\n",
              "      <th>1</th>\n",
              "      <td>0.95</td>\n",
              "      <td>1</td>\n",
              "    </tr>\n",
              "    <tr>\n",
              "      <th>2</th>\n",
              "      <td>1.00</td>\n",
              "      <td>2</td>\n",
              "    </tr>\n",
              "    <tr>\n",
              "      <th>3</th>\n",
              "      <td>1.05</td>\n",
              "      <td>5</td>\n",
              "    </tr>\n",
              "    <tr>\n",
              "      <th>4</th>\n",
              "      <td>1.10</td>\n",
              "      <td>52</td>\n",
              "    </tr>\n",
              "  </tbody>\n",
              "</table>\n",
              "</div>"
            ],
            "text/plain": [
              "   Time  Altitude\n",
              "0  0.90         0\n",
              "1  0.95         1\n",
              "2  1.00         2\n",
              "3  1.05         5\n",
              "4  1.10        52"
            ]
          },
          "metadata": {
            "tags": []
          },
          "execution_count": 6
        }
      ]
    },
    {
      "cell_type": "code",
      "metadata": {
        "id": "EwhdzhZ3cwEz",
        "colab": {
          "base_uri": "https://localhost:8080/",
          "height": 195
        },
        "outputId": "7eab3954-1233-4196-ce17-b4f5b99cb7bc"
      },
      "source": [
        "kf_alt_smooth, kf_alt_filter = kf_smooth(df['Altitude'])\n",
        "\n",
        "df.loc[:, 'Altitude'] = kf_alt_smooth\n",
        "df.head()"
      ],
      "execution_count": null,
      "outputs": [
        {
          "output_type": "execute_result",
          "data": {
            "text/html": [
              "<div>\n",
              "<style scoped>\n",
              "    .dataframe tbody tr th:only-of-type {\n",
              "        vertical-align: middle;\n",
              "    }\n",
              "\n",
              "    .dataframe tbody tr th {\n",
              "        vertical-align: top;\n",
              "    }\n",
              "\n",
              "    .dataframe thead th {\n",
              "        text-align: right;\n",
              "    }\n",
              "</style>\n",
              "<table border=\"1\" class=\"dataframe\">\n",
              "  <thead>\n",
              "    <tr style=\"text-align: right;\">\n",
              "      <th></th>\n",
              "      <th>Time</th>\n",
              "      <th>Altitude</th>\n",
              "    </tr>\n",
              "  </thead>\n",
              "  <tbody>\n",
              "    <tr>\n",
              "      <th>0</th>\n",
              "      <td>0.90</td>\n",
              "      <td>0.006173</td>\n",
              "    </tr>\n",
              "    <tr>\n",
              "      <th>1</th>\n",
              "      <td>0.95</td>\n",
              "      <td>0.958636</td>\n",
              "    </tr>\n",
              "    <tr>\n",
              "      <th>2</th>\n",
              "      <td>1.00</td>\n",
              "      <td>2.058637</td>\n",
              "    </tr>\n",
              "    <tr>\n",
              "      <th>3</th>\n",
              "      <td>1.05</td>\n",
              "      <td>4.791102</td>\n",
              "    </tr>\n",
              "    <tr>\n",
              "      <th>4</th>\n",
              "      <td>1.10</td>\n",
              "      <td>34.356756</td>\n",
              "    </tr>\n",
              "  </tbody>\n",
              "</table>\n",
              "</div>"
            ],
            "text/plain": [
              "   Time   Altitude\n",
              "0  0.90   0.006173\n",
              "1  0.95   0.958636\n",
              "2  1.00   2.058637\n",
              "3  1.05   4.791102\n",
              "4  1.10  34.356756"
            ]
          },
          "metadata": {
            "tags": []
          },
          "execution_count": 7
        }
      ]
    },
    {
      "cell_type": "code",
      "metadata": {
        "id": "eGYjb05qgz2x",
        "colab": {
          "base_uri": "https://localhost:8080/",
          "height": 195
        },
        "outputId": "0843c0d1-5a46-4b13-d638-7cd3582d7ff0"
      },
      "source": [
        "df['Velocity'] = (df['Altitude'] - df['Altitude'].shift(1))/(df['Time'] - df['Time'].shift(1))\n",
        "kf_vel_smooth, kf_vel_filter = kf_smooth(df.loc[1:,'Velocity'])\n",
        "df.loc[1:, 'Velocity'] = kf_vel_smooth\n",
        "df.head()"
      ],
      "execution_count": null,
      "outputs": [
        {
          "output_type": "execute_result",
          "data": {
            "text/html": [
              "<div>\n",
              "<style scoped>\n",
              "    .dataframe tbody tr th:only-of-type {\n",
              "        vertical-align: middle;\n",
              "    }\n",
              "\n",
              "    .dataframe tbody tr th {\n",
              "        vertical-align: top;\n",
              "    }\n",
              "\n",
              "    .dataframe thead th {\n",
              "        text-align: right;\n",
              "    }\n",
              "</style>\n",
              "<table border=\"1\" class=\"dataframe\">\n",
              "  <thead>\n",
              "    <tr style=\"text-align: right;\">\n",
              "      <th></th>\n",
              "      <th>Time</th>\n",
              "      <th>Altitude</th>\n",
              "      <th>Velocity</th>\n",
              "    </tr>\n",
              "  </thead>\n",
              "  <tbody>\n",
              "    <tr>\n",
              "      <th>0</th>\n",
              "      <td>0.90</td>\n",
              "      <td>0.006173</td>\n",
              "      <td>NaN</td>\n",
              "    </tr>\n",
              "    <tr>\n",
              "      <th>1</th>\n",
              "      <td>0.95</td>\n",
              "      <td>0.958636</td>\n",
              "      <td>18.820266</td>\n",
              "    </tr>\n",
              "    <tr>\n",
              "      <th>2</th>\n",
              "      <td>1.00</td>\n",
              "      <td>2.058637</td>\n",
              "      <td>22.673795</td>\n",
              "    </tr>\n",
              "    <tr>\n",
              "      <th>3</th>\n",
              "      <td>1.05</td>\n",
              "      <td>4.791102</td>\n",
              "      <td>48.082647</td>\n",
              "    </tr>\n",
              "    <tr>\n",
              "      <th>4</th>\n",
              "      <td>1.10</td>\n",
              "      <td>34.356756</td>\n",
              "      <td>424.318827</td>\n",
              "    </tr>\n",
              "  </tbody>\n",
              "</table>\n",
              "</div>"
            ],
            "text/plain": [
              "   Time   Altitude    Velocity\n",
              "0  0.90   0.006173         NaN\n",
              "1  0.95   0.958636   18.820266\n",
              "2  1.00   2.058637   22.673795\n",
              "3  1.05   4.791102   48.082647\n",
              "4  1.10  34.356756  424.318827"
            ]
          },
          "metadata": {
            "tags": []
          },
          "execution_count": 8
        }
      ]
    },
    {
      "cell_type": "code",
      "metadata": {
        "id": "DmnPumdJh-N0",
        "colab": {
          "base_uri": "https://localhost:8080/",
          "height": 162
        },
        "outputId": "95e09f6e-3a1d-4518-d80a-3a777febea07"
      },
      "source": [
        "df.set_index('Time')[['Velocity', 'Altitude']].plot(secondary_y='Altitude');"
      ],
      "execution_count": null,
      "outputs": [
        {
          "output_type": "error",
          "ename": "NameError",
          "evalue": "ignored",
          "traceback": [
            "\u001b[0;31m---------------------------------------------------------------------------\u001b[0m",
            "\u001b[0;31mNameError\u001b[0m                                 Traceback (most recent call last)",
            "\u001b[0;32m<ipython-input-1-d898806beafe>\u001b[0m in \u001b[0;36m<module>\u001b[0;34m()\u001b[0m\n\u001b[0;32m----> 1\u001b[0;31m \u001b[0mdf\u001b[0m\u001b[0;34m.\u001b[0m\u001b[0mset_index\u001b[0m\u001b[0;34m(\u001b[0m\u001b[0;34m'Time'\u001b[0m\u001b[0;34m)\u001b[0m\u001b[0;34m[\u001b[0m\u001b[0;34m[\u001b[0m\u001b[0;34m'Velocity'\u001b[0m\u001b[0;34m,\u001b[0m \u001b[0;34m'Altitude'\u001b[0m\u001b[0;34m]\u001b[0m\u001b[0;34m]\u001b[0m\u001b[0;34m.\u001b[0m\u001b[0mplot\u001b[0m\u001b[0;34m(\u001b[0m\u001b[0msecondary_y\u001b[0m\u001b[0;34m=\u001b[0m\u001b[0;34m'Altitude'\u001b[0m\u001b[0;34m)\u001b[0m\u001b[0;34m;\u001b[0m\u001b[0;34m\u001b[0m\u001b[0;34m\u001b[0m\u001b[0m\n\u001b[0m",
            "\u001b[0;31mNameError\u001b[0m: name 'df' is not defined"
          ]
        }
      ]
    },
    {
      "cell_type": "code",
      "metadata": {
        "id": "gIHRLZmij9-2"
      },
      "source": [
        "# GOAL #\n",
        "# Find Gap Size as a function of Altitiude and Time #"
      ],
      "execution_count": null,
      "outputs": []
    },
    {
      "cell_type": "code",
      "metadata": {
        "id": "9ZXkRggvkBMd"
      },
      "source": [
        "def alt(time):\n",
        "  print(time)\n",
        "  return df[df.Time == time]['Altitude'].values[0]"
      ],
      "execution_count": null,
      "outputs": []
    },
    {
      "cell_type": "code",
      "metadata": {
        "id": "n_xhE7rmtAsk",
        "colab": {
          "base_uri": "https://localhost:8080/",
          "height": 991
        },
        "outputId": "248b98c4-0e4b-43f9-e810-44c26e0c987b"
      },
      "source": [
        "df['Acceleration'] = (df['Velocity'] - df['Velocity'].shift(1))/(df['Time'] - df['Time'].shift(1))\n",
        "df.set_index('Time')[['Acceleration', 'Altitude']].plot(secondary_y='Altitude');\n",
        "df"
      ],
      "execution_count": null,
      "outputs": [
        {
          "output_type": "execute_result",
          "data": {
            "text/html": [
              "<div>\n",
              "<style scoped>\n",
              "    .dataframe tbody tr th:only-of-type {\n",
              "        vertical-align: middle;\n",
              "    }\n",
              "\n",
              "    .dataframe tbody tr th {\n",
              "        vertical-align: top;\n",
              "    }\n",
              "\n",
              "    .dataframe thead th {\n",
              "        text-align: right;\n",
              "    }\n",
              "</style>\n",
              "<table border=\"1\" class=\"dataframe\">\n",
              "  <thead>\n",
              "    <tr style=\"text-align: right;\">\n",
              "      <th></th>\n",
              "      <th>Time</th>\n",
              "      <th>Altitude</th>\n",
              "      <th>Velocity</th>\n",
              "      <th>Acceleration</th>\n",
              "    </tr>\n",
              "  </thead>\n",
              "  <tbody>\n",
              "    <tr>\n",
              "      <th>0</th>\n",
              "      <td>0.90</td>\n",
              "      <td>0.006173</td>\n",
              "      <td>NaN</td>\n",
              "      <td>NaN</td>\n",
              "    </tr>\n",
              "    <tr>\n",
              "      <th>1</th>\n",
              "      <td>0.95</td>\n",
              "      <td>0.958636</td>\n",
              "      <td>18.820266</td>\n",
              "      <td>NaN</td>\n",
              "    </tr>\n",
              "    <tr>\n",
              "      <th>2</th>\n",
              "      <td>1.00</td>\n",
              "      <td>2.058637</td>\n",
              "      <td>22.673795</td>\n",
              "      <td>77.070580</td>\n",
              "    </tr>\n",
              "    <tr>\n",
              "      <th>3</th>\n",
              "      <td>1.05</td>\n",
              "      <td>4.791102</td>\n",
              "      <td>48.082647</td>\n",
              "      <td>508.177036</td>\n",
              "    </tr>\n",
              "    <tr>\n",
              "      <th>4</th>\n",
              "      <td>1.10</td>\n",
              "      <td>34.356756</td>\n",
              "      <td>424.318827</td>\n",
              "      <td>7524.723611</td>\n",
              "    </tr>\n",
              "    <tr>\n",
              "      <th>...</th>\n",
              "      <td>...</td>\n",
              "      <td>...</td>\n",
              "      <td>...</td>\n",
              "      <td>...</td>\n",
              "    </tr>\n",
              "    <tr>\n",
              "      <th>205</th>\n",
              "      <td>11.15</td>\n",
              "      <td>688.486238</td>\n",
              "      <td>-27.237120</td>\n",
              "      <td>25.218519</td>\n",
              "    </tr>\n",
              "    <tr>\n",
              "      <th>206</th>\n",
              "      <td>11.20</td>\n",
              "      <td>687.345732</td>\n",
              "      <td>-26.363268</td>\n",
              "      <td>17.477036</td>\n",
              "    </tr>\n",
              "    <tr>\n",
              "      <th>207</th>\n",
              "      <td>11.25</td>\n",
              "      <td>686.229621</td>\n",
              "      <td>-25.369855</td>\n",
              "      <td>19.868259</td>\n",
              "    </tr>\n",
              "    <tr>\n",
              "      <th>208</th>\n",
              "      <td>11.30</td>\n",
              "      <td>684.555628</td>\n",
              "      <td>-24.395298</td>\n",
              "      <td>19.491137</td>\n",
              "    </tr>\n",
              "    <tr>\n",
              "      <th>209</th>\n",
              "      <td>11.35</td>\n",
              "      <td>682.395150</td>\n",
              "      <td>-23.761153</td>\n",
              "      <td>12.682905</td>\n",
              "    </tr>\n",
              "  </tbody>\n",
              "</table>\n",
              "<p>210 rows × 4 columns</p>\n",
              "</div>"
            ],
            "text/plain": [
              "      Time    Altitude    Velocity  Acceleration\n",
              "0     0.90    0.006173         NaN           NaN\n",
              "1     0.95    0.958636   18.820266           NaN\n",
              "2     1.00    2.058637   22.673795     77.070580\n",
              "3     1.05    4.791102   48.082647    508.177036\n",
              "4     1.10   34.356756  424.318827   7524.723611\n",
              "..     ...         ...         ...           ...\n",
              "205  11.15  688.486238  -27.237120     25.218519\n",
              "206  11.20  687.345732  -26.363268     17.477036\n",
              "207  11.25  686.229621  -25.369855     19.868259\n",
              "208  11.30  684.555628  -24.395298     19.491137\n",
              "209  11.35  682.395150  -23.761153     12.682905\n",
              "\n",
              "[210 rows x 4 columns]"
            ]
          },
          "metadata": {
            "tags": []
          },
          "execution_count": 12
        },
        {
          "output_type": "display_data",
          "data": {
            "image/png": "[encoded data removed]",
            "text/plain": [
              "<Figure size 576x720 with 2 Axes>"
            ]
          },
          "metadata": {
            "tags": [],
            "needs_background": "light"
          }
        }
      ]
    },
    {
      "cell_type": "code",
      "metadata": {
        "id": "_urmHH_8uJ_1",
        "colab": {
          "base_uri": "https://localhost:8080/",
          "height": 991
        },
        "outputId": "663d1cf1-7287-4b21-e60a-0517317e07b3"
      },
      "source": [
        "df['Force'] = (df['Acceleration'] - df['Acceleration'].shift(1))/MASS\n",
        "df.set_index('Time')[['Force', 'Altitude']].plot(secondary_y='Altitude');\n",
        "df"
      ],
      "execution_count": null,
      "outputs": [
        {
          "output_type": "execute_result",
          "data": {
            "text/html": [
              "<div>\n",
              "<style scoped>\n",
              "    .dataframe tbody tr th:only-of-type {\n",
              "        vertical-align: middle;\n",
              "    }\n",
              "\n",
              "    .dataframe tbody tr th {\n",
              "        vertical-align: top;\n",
              "    }\n",
              "\n",
              "    .dataframe thead th {\n",
              "        text-align: right;\n",
              "    }\n",
              "</style>\n",
              "<table border=\"1\" class=\"dataframe\">\n",
              "  <thead>\n",
              "    <tr style=\"text-align: right;\">\n",
              "      <th></th>\n",
              "      <th>Time</th>\n",
              "      <th>Altitude</th>\n",
              "      <th>Velocity</th>\n",
              "      <th>Acceleration</th>\n",
              "      <th>Force</th>\n",
              "    </tr>\n",
              "  </thead>\n",
              "  <tbody>\n",
              "    <tr>\n",
              "      <th>0</th>\n",
              "      <td>0.90</td>\n",
              "      <td>0.006173</td>\n",
              "      <td>NaN</td>\n",
              "      <td>NaN</td>\n",
              "      <td>NaN</td>\n",
              "    </tr>\n",
              "    <tr>\n",
              "      <th>1</th>\n",
              "      <td>0.95</td>\n",
              "      <td>0.958636</td>\n",
              "      <td>18.820266</td>\n",
              "      <td>NaN</td>\n",
              "      <td>NaN</td>\n",
              "    </tr>\n",
              "    <tr>\n",
              "      <th>2</th>\n",
              "      <td>1.00</td>\n",
              "      <td>2.058637</td>\n",
              "      <td>22.673795</td>\n",
              "      <td>77.070580</td>\n",
              "      <td>NaN</td>\n",
              "    </tr>\n",
              "    <tr>\n",
              "      <th>3</th>\n",
              "      <td>1.05</td>\n",
              "      <td>4.791102</td>\n",
              "      <td>48.082647</td>\n",
              "      <td>508.177036</td>\n",
              "      <td>1026.443943</td>\n",
              "    </tr>\n",
              "    <tr>\n",
              "      <th>4</th>\n",
              "      <td>1.10</td>\n",
              "      <td>34.356756</td>\n",
              "      <td>424.318827</td>\n",
              "      <td>7524.723611</td>\n",
              "      <td>16706.063273</td>\n",
              "    </tr>\n",
              "    <tr>\n",
              "      <th>...</th>\n",
              "      <td>...</td>\n",
              "      <td>...</td>\n",
              "      <td>...</td>\n",
              "      <td>...</td>\n",
              "      <td>...</td>\n",
              "    </tr>\n",
              "    <tr>\n",
              "      <th>205</th>\n",
              "      <td>11.15</td>\n",
              "      <td>688.486238</td>\n",
              "      <td>-27.237120</td>\n",
              "      <td>25.218519</td>\n",
              "      <td>2.489828</td>\n",
              "    </tr>\n",
              "    <tr>\n",
              "      <th>206</th>\n",
              "      <td>11.20</td>\n",
              "      <td>687.345732</td>\n",
              "      <td>-26.363268</td>\n",
              "      <td>17.477036</td>\n",
              "      <td>-18.432103</td>\n",
              "    </tr>\n",
              "    <tr>\n",
              "      <th>207</th>\n",
              "      <td>11.25</td>\n",
              "      <td>686.229621</td>\n",
              "      <td>-25.369855</td>\n",
              "      <td>19.868259</td>\n",
              "      <td>5.693389</td>\n",
              "    </tr>\n",
              "    <tr>\n",
              "      <th>208</th>\n",
              "      <td>11.30</td>\n",
              "      <td>684.555628</td>\n",
              "      <td>-24.395298</td>\n",
              "      <td>19.491137</td>\n",
              "      <td>-0.897911</td>\n",
              "    </tr>\n",
              "    <tr>\n",
              "      <th>209</th>\n",
              "      <td>11.35</td>\n",
              "      <td>682.395150</td>\n",
              "      <td>-23.761153</td>\n",
              "      <td>12.682905</td>\n",
              "      <td>-16.210075</td>\n",
              "    </tr>\n",
              "  </tbody>\n",
              "</table>\n",
              "<p>210 rows × 5 columns</p>\n",
              "</div>"
            ],
            "text/plain": [
              "      Time    Altitude    Velocity  Acceleration         Force\n",
              "0     0.90    0.006173         NaN           NaN           NaN\n",
              "1     0.95    0.958636   18.820266           NaN           NaN\n",
              "2     1.00    2.058637   22.673795     77.070580           NaN\n",
              "3     1.05    4.791102   48.082647    508.177036   1026.443943\n",
              "4     1.10   34.356756  424.318827   7524.723611  16706.063273\n",
              "..     ...         ...         ...           ...           ...\n",
              "205  11.15  688.486238  -27.237120     25.218519      2.489828\n",
              "206  11.20  687.345732  -26.363268     17.477036    -18.432103\n",
              "207  11.25  686.229621  -25.369855     19.868259      5.693389\n",
              "208  11.30  684.555628  -24.395298     19.491137     -0.897911\n",
              "209  11.35  682.395150  -23.761153     12.682905    -16.210075\n",
              "\n",
              "[210 rows x 5 columns]"
            ]
          },
          "metadata": {
            "tags": []
          },
          "execution_count": 13
        },
        {
          "output_type": "display_data",
          "data": {
            "image/png": "[encoded data removed]",
            "text/plain": [
              "<Figure size 576x720 with 2 Axes>"
            ]
          },
          "metadata": {
            "tags": [],
            "needs_background": "light"
          }
        }
      ]
    },
    {
      "cell_type": "code",
      "metadata": {
        "id": "Y-cwYtncvmuj",
        "colab": {
          "base_uri": "https://localhost:8080/",
          "height": 269
        },
        "outputId": "d871fc19-aa25-4418-8211-c88e35cf6dfc"
      },
      "source": [
        "df['Drag Force'] = df['Force'] - MASS*9.8\n",
        "print(df)\n",
        "df[df.Time == 4]['Drag Force'].values[0]"
      ],
      "execution_count": null,
      "outputs": [
        {
          "output_type": "stream",
          "text": [
            "      Time    Altitude    Velocity  Acceleration         Force    Drag Force\n",
            "0     0.90    0.006173         NaN           NaN           NaN           NaN\n",
            "1     0.95    0.958636   18.820266           NaN           NaN           NaN\n",
            "2     1.00    2.058637   22.673795     77.070580           NaN           NaN\n",
            "3     1.05    4.791102   48.082647    508.177036   1026.443943   1022.327943\n",
            "4     1.10   34.356756  424.318827   7524.723611  16706.063273  16701.947273\n",
            "..     ...         ...         ...           ...           ...           ...\n",
            "205  11.15  688.486238  -27.237120     25.218519      2.489828     -1.626172\n",
            "206  11.20  687.345732  -26.363268     17.477036    -18.432103    -22.548103\n",
            "207  11.25  686.229621  -25.369855     19.868259      5.693389      1.577389\n",
            "208  11.30  684.555628  -24.395298     19.491137     -0.897911     -5.013911\n",
            "209  11.35  682.395150  -23.761153     12.682905    -16.210075    -20.326075\n",
            "\n",
            "[210 rows x 6 columns]\n"
          ],
          "name": "stdout"
        },
        {
          "output_type": "execute_result",
          "data": {
            "text/plain": [
              "-4.5798846921367415"
            ]
          },
          "metadata": {
            "tags": []
          },
          "execution_count": 14
        }
      ]
    },
    {
      "cell_type": "code",
      "metadata": {
        "id": "V0Od_M5ZzGgM",
        "colab": {
          "base_uri": "https://localhost:8080/",
          "height": 693
        },
        "outputId": "3ddd4047-0f34-48b5-f4b8-f2c8d5a5daa4"
      },
      "source": [
        "# numpy.linspace with the given arguments \n",
        "# produce an array of 40 numbers between 0 \n",
        "# and 10, both inclusive \n",
        "x = df.Time\n",
        "y = df.Altitude\n",
        "  \n",
        "# y is another array which stores 3.45 times \n",
        "# the sine of (values in x) * 1.334.  \n",
        "# The random.normal() draws random sample  \n",
        "# from normal (Gaussian) distribution to make \n",
        "# them scatter across the base line \n",
        "# y = 3.45 * np.sin(1.334 * x) + np.random.normal(size = 40) \n",
        "  \n",
        "# Test function with coefficients as parameters \n",
        "def test(x, a, b, c=0): \n",
        "    return a*(x**2) + b*(x) + c \n",
        "  \n",
        "# curve_fit() function takes the test-function \n",
        "# x-data and y-data as argument and returns  \n",
        "# the coefficients a and b in param and \n",
        "# the estimated covariance of param in param_cov \n",
        "param, param_cov = curve_fit(test, x, y) \n",
        "  \n",
        "  \n",
        "print(\"Sine funcion coefficients:\") \n",
        "print(param) \n",
        "print(\"Covariance of coefficients:\") \n",
        "print(param_cov) \n",
        "  \n",
        "# ans stores the new y-data according to  \n",
        "# the coefficients given by curve-fit() function \n",
        "ans = (param[0]*(np.sin(param[1]*x))) \n",
        "  \n",
        "'''Below 4 lines can be un-commented for plotting results  \n",
        "using matplotlib as shown in the first example. '''\n",
        "  \n",
        "plt.plot(x, y, 'o', color ='red', label =\"data\") \n",
        "plt.plot(x, ans, '--', color ='blue', label =\"optimized data\") \n",
        "plt.legend() \n",
        "plt.show() "
      ],
      "execution_count": null,
      "outputs": [
        {
          "output_type": "stream",
          "text": [
            "Sine funcion coefficients:\n",
            "[ -15.81865425  251.23054231 -181.74218914]\n",
            "Covariance of coefficients:\n",
            "[[ 1.58384704e-02 -1.94021261e-01  4.48677466e-01]\n",
            " [-1.94021261e-01  2.49316263e+00 -6.20926238e+00]\n",
            " [ 4.48677466e-01 -6.20926238e+00  1.81466069e+01]]\n"
          ],
          "name": "stdout"
        },
        {
          "output_type": "display_data",
          "data": {
            "image/png": "[encoded data removed]",
            "text/plain": [
              "<Figure size 576x720 with 1 Axes>"
            ]
          },
          "metadata": {
            "tags": [],
            "needs_background": "light"
          }
        }
      ]
    },
    {
      "cell_type": "code",
      "metadata": {
        "id": "1A2g8pCbz4t3",
        "colab": {
          "base_uri": "https://localhost:8080/",
          "height": 659
        },
        "outputId": "d59126e5-aeec-48cd-8eca-8087a756d341"
      },
      "source": [
        "import warnings\n",
        "# x = np.array([0.0, 1.0, 2.0, 3.0,  4.0,  5.0])\n",
        "x = df['Time'][df.Altitude > 300]\n",
        "# y = np.array([0.0, 0.8, 0.9, 0.1, -0.8, -1.0])\n",
        "y = df['Altitude'][df.Altitude > 300]\n",
        "z = np.polyfit(x, y, 3)\n",
        "\n",
        "# may vary\n",
        "# It is convenient to use poly1d objects for dealing with polynomials:\n",
        "\n",
        "p = np.poly1d(z)\n",
        "\n",
        "# High-order polynomials may oscillate wildly:\n",
        "\n",
        "with warnings.catch_warnings():\n",
        "    warnings.simplefilter('ignore', np.RankWarning)\n",
        "    p2 = np.poly1d(np.polyfit(x, y, 2))\n",
        "\n",
        "with warnings.catch_warnings():\n",
        "    warnings.simplefilter('ignore', np.RankWarning)\n",
        "    p3 = np.poly1d(np.polyfit(x, y, 3))\n",
        "\n",
        "print(p3(4))\n",
        "# may vary\n",
        "print(p3(5))\n",
        "# may vary\n",
        "print(p3(4.5))\n",
        "# may vary\n",
        "# Illustration:\n",
        "\n",
        "\n",
        "import matplotlib.pyplot as plt\n",
        "xp = np.linspace(1, 10, 100)\n",
        "print(p3(xp).max(), df.Altitude.max())\n",
        "_ = plt.plot(x, y, '.', xp, p(xp), '-', xp, p3(xp), '--')\n",
        "plt.ylim(0, 850)\n",
        "plt.show()"
      ],
      "execution_count": null,
      "outputs": [
        {
          "output_type": "stream",
          "text": [
            "582.6030997120258\n",
            "685.7295317322287\n",
            "638.5317172254114\n",
            "803.4298564654733 808.4080475946821\n"
          ],
          "name": "stdout"
        },
        {
          "output_type": "display_data",
          "data": {
            "image/png": "[encoded data removed]",
            "text/plain": [
              "<Figure size 576x720 with 1 Axes>"
            ]
          },
          "metadata": {
            "tags": [],
            "needs_background": "light"
          }
        }
      ]
    },
    {
      "cell_type": "code",
      "metadata": {
        "id": "dlj3OTZH23bk",
        "colab": {
          "base_uri": "https://localhost:8080/",
          "height": 168
        },
        "outputId": "0025a1bd-3954-47c3-8f92-80e76f147ecb"
      },
      "source": [
        "time_at_peak = df[df.Altitude == df.Altitude.max()]['Time'].values[0]\n",
        "deploy_alt = p2(df[df.Altitude > 600][df.Time < time_at_peak]['Time'].values[0])\n",
        "deploy_time = df[df.Altitude > 600][df.Time < time_at_peak]['Time'].values[0]\n",
        "print('Time at deployment', deploy_time)\n",
        "print(p2)\n",
        "coef_for_curve = p2.coef[0]\n",
        "print(p3)\n",
        "coef_for_curve = p3.coef[0]"
      ],
      "execution_count": null,
      "outputs": [
        {
          "output_type": "stream",
          "text": [
            "Time at deployment 4.2\n",
            "       2\n",
            "-14.6 x + 233.2 x - 122.6\n",
            "        3         2\n",
            "0.4191 x - 23.12 x + 285.6 x - 216.9\n"
          ],
          "name": "stdout"
        },
        {
          "output_type": "stream",
          "text": [
            "/usr/local/lib/python3.6/dist-packages/ipykernel_launcher.py:2: UserWarning: Boolean Series key will be reindexed to match DataFrame index.\n",
            "  \n",
            "/usr/local/lib/python3.6/dist-packages/ipykernel_launcher.py:3: UserWarning: Boolean Series key will be reindexed to match DataFrame index.\n",
            "  This is separate from the ipykernel package so we can avoid doing imports until\n"
          ],
          "name": "stderr"
        }
      ]
    },
    {
      "cell_type": "code",
      "metadata": {
        "id": "eZI9x6T-Atdy"
      },
      "source": [
        "drag_increase_prop = 1.914/1.841\n",
        "# drag_increase_prop = 1\n",
        "# drag_increase_prop = 10\n",
        "def estimate_function(x):\n",
        "  return coef_for_curve*drag_increase_prop*(x**2) +  216.8*x - 60.25"
      ],
      "execution_count": null,
      "outputs": []
    },
    {
      "cell_type": "code",
      "metadata": {
        "id": "9tvdJNwlSNj6",
        "colab": {
          "base_uri": "https://localhost:8080/",
          "height": 609
        },
        "outputId": "1c026596-3a94-45e5-c035-f4610abd5cec"
      },
      "source": [
        "x1 = np.linspace(1, deploy_time)\n",
        "x2 = np.linspace(deploy_time, df.Time.max())\n",
        "_ = plt.plot(x, y, '.', x1, p2(x1), '-', x2, estimate_function(x2), '--')\n",
        "plt.ylim(0, 850)\n",
        "plt.show()\n",
        "print(estimate_function(x2).max())"
      ],
      "execution_count": null,
      "outputs": [
        {
          "output_type": "display_data",
          "data": {
            "image/png": "[encoded data removed]",
            "text/plain": [
              "<Figure size 576x720 with 1 Axes>"
            ]
          },
          "metadata": {
            "tags": [],
            "needs_background": "light"
          }
        },
        {
          "output_type": "stream",
          "text": [
            "2456.5606531768976\n"
          ],
          "name": "stdout"
        }
      ]
    },
    {
      "cell_type": "code",
      "metadata": {
        "id": "xGvO6re1T9Mv"
      },
      "source": [
        "df['Altitude_Deployed'] = df['Altitude']\n",
        "for i in range(len(df['Altitude'])):\n",
        "  if df['Time'][i] < 4.2:\n",
        "    df['Altitude_Deployed'][i] = df['Altitude'][i]\n",
        "  else:\n",
        "    df['Altitude_Deployed'][i] = -29.2*drag_increase_prop*(df['Time'][i]-4.2)**2+df[df.Time == 4.2]['Velocity'].values[0]*(df['Time'][i]-4.2) + 609"
      ],
      "execution_count": null,
      "outputs": []
    },
    {
      "cell_type": "code",
      "metadata": {
        "id": "VGsVXO_zzLRv"
      },
      "source": [
        "kf_vel_smooth, kf_vel_filter = kf_smooth(df.loc[1:,'Altitude_Deployed'])\n",
        "df.loc[1:, 'Altitude_Deployed'] = kf_vel_smooth"
      ],
      "execution_count": null,
      "outputs": []
    },
    {
      "cell_type": "code",
      "metadata": {
        "id": "yEgx3Pp8ceGJ"
      },
      "source": [
        "df['Velocity_Deployed'] = (df['Altitude_Deployed'] - df['Altitude_Deployed'].shift(1))/(df['Time'] - df['Time'].shift(1))\n",
        "\n",
        "kf_vel_smooth, kf_vel_filter = kf_smooth(df.loc[1:,'Velocity_Deployed'])\n",
        "df.loc[1:, 'Velocity_Deployed'] = kf_vel_smooth"
      ],
      "execution_count": null,
      "outputs": []
    },
    {
      "cell_type": "code",
      "metadata": {
        "id": "Xr7LV6CjczN0"
      },
      "source": [
        "df['Acceleration_Deployed'] = (df['Velocity_Deployed'] - df['Velocity_Deployed'].shift(1))/(df['Time'] - df['Time'].shift(1))"
      ],
      "execution_count": null,
      "outputs": []
    },
    {
      "cell_type": "code",
      "metadata": {
        "id": "QBptsJiKYfVA"
      },
      "source": [
        "def Fd_q(v, p=1, m=0.446, A=0.00442, rho=1.241, Cd=1.3):\n",
        "  v = v * 0.3048\n",
        "  return -p*(Cd*A*rho*  (v**2)  )/(2*m)\n",
        "\n",
        "\n",
        "def Fd_l(v, p=1, m=0.446, A=0.00442, rho=1.241, Cd=75):\n",
        "  v = v * 0.3048\n",
        "  return -p*(Cd*A*rho*v)/(2*m)\n",
        "\n",
        "\n",
        "def a(v, m=0.446, p=1):\n",
        "  return Fd_l(v=v, m=m, p=p)/m - 9.81\n",
        "\n",
        "\n",
        "def max_height(v, s, m=0.446, p=1, del_t=0.1, A=0):\n",
        "  v_dep = v\n",
        "  s_dep = s\n",
        "  while v > 0:\n",
        "    s = s + v*del_t\n",
        "    v = v + del_t*a(v=v, m=m)\n",
        "                      # if abs(A) > abs(a(v=v, m=m)):\n",
        "                      #   v = v + del_t*A\n",
        "                      # else:\n",
        "                      #   v = v + del_t*a(v=v, m=m)\n",
        "  while v_dep > 0:\n",
        "    s_dep = s_dep + v_dep*del_t\n",
        "    v_dep = v_dep + del_t*a(v_dep, m=m, p=p)\n",
        "  return s, s_dep"
      ],
      "execution_count": null,
      "outputs": []
    },
    {
      "cell_type": "code",
      "metadata": {
        "id": "djcazp8pZeEi"
      },
      "source": [
        "def poly(x, df, deployed=False):\n",
        "  # a = -abs(df[df.Time == x]['Acceleration'].values[0])\n",
        "  # b = abs(df[df.Time == x]['Velocity'].values[0])\n",
        "  # c = abs(df[df.Time == x]['Altitude'].values[0])\n",
        "\n",
        "  \n",
        "\n",
        "  a = -abs(df[df.Time == x]['Acceleration_Deployed'].values[0])\n",
        "  b = abs(df[df.Time == x]['Velocity_Deployed'].values[0])\n",
        "  c = abs(df[df.Time == x]['Altitude_Deployed'].values[0])\n",
        "\n",
        "  if abs(a) < 0.1:\n",
        "    a = -1\n",
        "\n",
        "  t_max = -b/a\n",
        "  current = ((0.5*a*t_max**2) + b*t_max + c)\n",
        "\n",
        "  t_max = -b/(a*drag_increase_prop)\n",
        "  new = ((0.5*a*drag_increase_prop*t_max**2) + b*t_max + c)\n",
        "\n",
        "  # if abs(750-new) < abs(750-current) and c > 600 and not deployed:\n",
        "  # return (x, current, new)\n",
        "  return x, max_height(v=b, s=c, p=1.242)[0], max_height(v=b, s=c, p=1.242, A=a)[1]\n"
      ],
      "execution_count": null,
      "outputs": []
    },
    {
      "cell_type": "code",
      "metadata": {
        "id": "l5IdcKXwfEis"
      },
      "source": [
        "estimates = []\n",
        "for i in np.arange(2., 8.0, 0.05):\n",
        "  i = round(i, 3)\n",
        "  estimates.append(poly(i, df))\n",
        "\n",
        "s = pd.DataFrame(estimates, columns=['Time', 'Not-Deployed', 'Deployed'])"
      ],
      "execution_count": null,
      "outputs": []
    },
    {
      "cell_type": "code",
      "metadata": {
        "id": "A-YsBvCHkskg",
        "colab": {
          "base_uri": "https://localhost:8080/",
          "height": 610
        },
        "outputId": "8bc65574-b104-4b89-b7fb-d967c5726514"
      },
      "source": [
        "s.set_index('Time').plot();\n",
        "plt.ylim(0, 1000)\n",
        "df.set_index('Time')['Altitude'].plot();\n",
        "df.set_index('Time')['Altitude_Deployed'].plot();\n",
        "# df.set_index('Time')['Velocity_Deployed'].plot()"
      ],
      "execution_count": null,
      "outputs": [
        {
          "output_type": "display_data",
          "data": {
            "image/png": "[encoded data removed]",
            "text/plain": [
              "<Figure size 576x720 with 1 Axes>"
            ]
          },
          "metadata": {
            "tags": [],
            "needs_background": "light"
          }
        }
      ]
    },
    {
      "cell_type": "code",
      "metadata": {
        "id": "rr4hdCRr_git",
        "colab": {
          "base_uri": "https://localhost:8080/",
          "height": 34
        },
        "outputId": "8368581b-aeb5-48e8-aef7-038d9a8e6198"
      },
      "source": [
        "a = (df[df.Time == 3.0]['Velocity'].values[0] - df[df.Time == 9.0]['Velocity'].values[0])/6\n",
        "a"
      ],
      "execution_count": null,
      "outputs": [
        {
          "output_type": "execute_result",
          "data": {
            "text/plain": [
              "31.04952674876043"
            ]
          },
          "metadata": {
            "tags": []
          },
          "execution_count": 245
        }
      ]
    },
    {
      "cell_type": "code",
      "metadata": {
        "id": "pwWuJSiD_pbd",
        "colab": {
          "base_uri": "https://localhost:8080/",
          "height": 50
        },
        "outputId": "6702f850-fc50-4195-ca01-ec45afd0f288"
      },
      "source": [
        "df[df.Time == 3.0]['Velocity']"
      ],
      "execution_count": null,
      "outputs": [
        {
          "output_type": "execute_result",
          "data": {
            "text/plain": [
              "42    157.405396\n",
              "Name: Velocity, dtype: float64"
            ]
          },
          "metadata": {
            "tags": []
          },
          "execution_count": 32
        }
      ]
    },
    {
      "cell_type": "code",
      "metadata": {
        "id": "rVULSOx-cf1L",
        "colab": {
          "base_uri": "https://localhost:8080/",
          "height": 34
        },
        "outputId": "b7691dd7-af2e-4669-9e96-f64b8c01ccd0"
      },
      "source": [
        "v = df[df.Time == 4.2]['Velocity'].values[0]*0.3048\n",
        "v = 0.3048*v\n",
        "print(v)"
      ],
      "execution_count": null,
      "outputs": [
        {
          "output_type": "stream",
          "text": [
            "10.393885322750334\n"
          ],
          "name": "stdout"
        }
      ]
    },
    {
      "cell_type": "code",
      "metadata": {
        "id": "UC88iwhhjPH7"
      },
      "source": [
        "df['Acceleration'] = (df['Velocity'] - df['Velocity'].shift(1))/(df['Time'] - df['Time'].shift(1))"
      ],
      "execution_count": null,
      "outputs": []
    },
    {
      "cell_type": "code",
      "metadata": {
        "id": "K13IgMtKGWnP",
        "colab": {
          "base_uri": "https://localhost:8080/",
          "height": 50
        },
        "outputId": "33ce04b6-7827-406a-9d0d-8eedadf0f0d4"
      },
      "source": [
        "df[df.Time == 4.2]['Acceleration']"
      ],
      "execution_count": null,
      "outputs": [
        {
          "output_type": "execute_result",
          "data": {
            "text/plain": [
              "66   -29.857336\n",
              "Name: Acceleration, dtype: float64"
            ]
          },
          "metadata": {
            "tags": []
          },
          "execution_count": 35
        }
      ]
    },
    {
      "cell_type": "code",
      "metadata": {
        "id": "HmPgbJj3IzKM"
      },
      "source": [
        "# from __future__ import division\n",
        "# from sympy import *\n",
        "# y = Function('y')\n",
        "# dsolve(Eq(y(t).diff(t, t) - y(t), exp(t)), y(t))"
      ],
      "execution_count": null,
      "outputs": []
    },
    {
      "cell_type": "code",
      "metadata": {
        "id": "KVb-YOvw4RBx",
        "colab": {
          "base_uri": "https://localhost:8080/",
          "height": 34
        },
        "outputId": "3594be57-3063-4385-a2d4-7de44e2b8e30"
      },
      "source": [
        "import math\n",
        "### ft/s to m/s convert ration: 1 : 0.3048\n",
        "m = 0.446 # Kg\n",
        "v = df[df.Time == 4.2]['Velocity'].values[0]*0.3048 # m/s\n",
        "Fd = abs((df[df.Time == 4.2]['Acceleration'].values[0]+9.81)*m)  # N\n",
        "diameter = 75 # mm\n",
        "### mm**2 to m**2 ration: 1 : 1e-6\n",
        "A = math.pi*((diameter/2)**2)/1_000_000 # m**2\n",
        "r = 1.24 # Kg/m**3\n",
        "\n",
        "Cd = 2*m*Fd/(A*r*(v**2))\n",
        "print(\"A:\", A,\"v:\", v, Cd)"
      ],
      "execution_count": null,
      "outputs": [
        {
          "output_type": "stream",
          "text": [
            "A: 0.004417864669110647 v: 34.10067363107065 1.2519770697218946\n"
          ],
          "name": "stdout"
        }
      ]
    },
    {
      "cell_type": "code",
      "metadata": {
        "id": "m1bWDGff7xT_",
        "colab": {
          "base_uri": "https://localhost:8080/",
          "height": 34
        },
        "outputId": "b45263d6-8e29-40c8-a0fd-d40d9e451f8d"
      },
      "source": [
        "Fd"
      ],
      "execution_count": null,
      "outputs": [
        {
          "output_type": "execute_result",
          "data": {
            "text/plain": [
              "8.941111897652528"
            ]
          },
          "metadata": {
            "tags": []
          },
          "execution_count": 41
        }
      ]
    },
    {
      "cell_type": "code",
      "metadata": {
        "id": "WJ82vKfP732k",
        "colab": {
          "base_uri": "https://localhost:8080/",
          "height": 77
        },
        "outputId": "b35f0e30-d8aa-415e-f7df-0bd256a91bf5"
      },
      "source": [
        "df[df.Time == 4.2]"
      ],
      "execution_count": null,
      "outputs": [
        {
          "output_type": "execute_result",
          "data": {
            "text/html": [
              "<div>\n",
              "<style scoped>\n",
              "    .dataframe tbody tr th:only-of-type {\n",
              "        vertical-align: middle;\n",
              "    }\n",
              "\n",
              "    .dataframe tbody tr th {\n",
              "        vertical-align: top;\n",
              "    }\n",
              "\n",
              "    .dataframe thead th {\n",
              "        text-align: right;\n",
              "    }\n",
              "</style>\n",
              "<table border=\"1\" class=\"dataframe\">\n",
              "  <thead>\n",
              "    <tr style=\"text-align: right;\">\n",
              "      <th></th>\n",
              "      <th>Time</th>\n",
              "      <th>Altitude</th>\n",
              "      <th>Velocity</th>\n",
              "      <th>Acceleration</th>\n",
              "      <th>Force</th>\n",
              "      <th>Drag Force</th>\n",
              "      <th>Altitude_Deployed</th>\n",
              "      <th>Velocity_Deployed</th>\n",
              "      <th>Acceleration_Deployed</th>\n",
              "    </tr>\n",
              "  </thead>\n",
              "  <tbody>\n",
              "    <tr>\n",
              "      <th>66</th>\n",
              "      <td>4.2</td>\n",
              "      <td>604.131159</td>\n",
              "      <td>111.87885</td>\n",
              "      <td>-29.857336</td>\n",
              "      <td>3.346338</td>\n",
              "      <td>-0.769662</td>\n",
              "      <td>606.929457</td>\n",
              "      <td>111.126997</td>\n",
              "      <td>-39.89559</td>\n",
              "    </tr>\n",
              "  </tbody>\n",
              "</table>\n",
              "</div>"
            ],
            "text/plain": [
              "    Time    Altitude  ...  Velocity_Deployed  Acceleration_Deployed\n",
              "66   4.2  604.131159  ...         111.126997              -39.89559\n",
              "\n",
              "[1 rows x 9 columns]"
            ]
          },
          "metadata": {
            "tags": []
          },
          "execution_count": 42
        }
      ]
    },
    {
      "cell_type": "code",
      "metadata": {
        "id": "QQNW_c2N8miE",
        "colab": {
          "base_uri": "https://localhost:8080/",
          "height": 34
        },
        "outputId": "6573d437-d2e3-40d9-821a-aa72e53a92e7"
      },
      "source": [
        "Fd = (Cd*A*r*v**2)/(2*m)\n",
        "Fd"
      ],
      "execution_count": null,
      "outputs": [
        {
          "output_type": "execute_result",
          "data": {
            "text/plain": [
              "8.941111897652528"
            ]
          },
          "metadata": {
            "tags": []
          },
          "execution_count": 85
        }
      ]
    },
    {
      "cell_type": "code",
      "metadata": {
        "id": "iF38fa6EdDT7",
        "colab": {
          "base_uri": "https://localhost:8080/",
          "height": 34
        },
        "outputId": "52738e61-9bbd-4489-fd3a-171d7a27de1f"
      },
      "source": [
        "0.3048 * 111.88"
      ],
      "execution_count": null,
      "outputs": [
        {
          "output_type": "execute_result",
          "data": {
            "text/plain": [
              "34.101024"
            ]
          },
          "metadata": {
            "tags": []
          },
          "execution_count": 86
        }
      ]
    },
    {
      "cell_type": "code",
      "metadata": {
        "id": "wu3CbC8mX_14",
        "colab": {
          "base_uri": "https://localhost:8080/",
          "height": 34
        },
        "outputId": "db11b46d-dea4-4ab7-b94a-15b4e2727c0d"
      },
      "source": [
        "a(111.88)"
      ],
      "execution_count": null,
      "outputs": [
        {
          "output_type": "execute_result",
          "data": {
            "text/plain": [
              "-33.860296648448724"
            ]
          },
          "metadata": {
            "tags": []
          },
          "execution_count": 166
        }
      ]
    },
    {
      "cell_type": "code",
      "metadata": {
        "id": "H1aJQGMlcK-1",
        "colab": {
          "base_uri": "https://localhost:8080/",
          "height": 34
        },
        "outputId": "2473d835-8eff-4d24-ee06-99c7d8c9f751"
      },
      "source": [
        "max_height(111.88, 604.13, p=1.242)"
      ],
      "execution_count": null,
      "outputs": [
        {
          "output_type": "execute_result",
          "data": {
            "text/plain": [
              "(817.905126219878, 789.8778591378938)"
            ]
          },
          "metadata": {
            "tags": []
          },
          "execution_count": 192
        }
      ]
    },
    {
      "cell_type": "code",
      "metadata": {
        "id": "MYz06i4eiwoe",
        "colab": {
          "base_uri": "https://localhost:8080/",
          "height": 1000
        },
        "outputId": "5c8b9270-57a5-44f1-93c8-0a1e36158789"
      },
      "source": [
        "df.head(50)"
      ],
      "execution_count": null,
      "outputs": [
        {
          "output_type": "execute_result",
          "data": {
            "text/html": [
              "<div>\n",
              "<style scoped>\n",
              "    .dataframe tbody tr th:only-of-type {\n",
              "        vertical-align: middle;\n",
              "    }\n",
              "\n",
              "    .dataframe tbody tr th {\n",
              "        vertical-align: top;\n",
              "    }\n",
              "\n",
              "    .dataframe thead th {\n",
              "        text-align: right;\n",
              "    }\n",
              "</style>\n",
              "<table border=\"1\" class=\"dataframe\">\n",
              "  <thead>\n",
              "    <tr style=\"text-align: right;\">\n",
              "      <th></th>\n",
              "      <th>Time</th>\n",
              "      <th>Altitude</th>\n",
              "      <th>Velocity</th>\n",
              "      <th>Acceleration</th>\n",
              "      <th>Force</th>\n",
              "      <th>Drag Force</th>\n",
              "      <th>Altitude_Deployed</th>\n",
              "      <th>Velocity_Deployed</th>\n",
              "      <th>Acceleration_Deployed</th>\n",
              "    </tr>\n",
              "  </thead>\n",
              "  <tbody>\n",
              "    <tr>\n",
              "      <th>0</th>\n",
              "      <td>0.90</td>\n",
              "      <td>0.006173</td>\n",
              "      <td>NaN</td>\n",
              "      <td>NaN</td>\n",
              "      <td>NaN</td>\n",
              "      <td>NaN</td>\n",
              "      <td>0.006173</td>\n",
              "      <td>NaN</td>\n",
              "      <td>NaN</td>\n",
              "    </tr>\n",
              "    <tr>\n",
              "      <th>1</th>\n",
              "      <td>0.95</td>\n",
              "      <td>0.958636</td>\n",
              "      <td>18.820266</td>\n",
              "      <td>NaN</td>\n",
              "      <td>NaN</td>\n",
              "      <td>NaN</td>\n",
              "      <td>0.952974</td>\n",
              "      <td>18.708421</td>\n",
              "      <td>NaN</td>\n",
              "    </tr>\n",
              "    <tr>\n",
              "      <th>2</th>\n",
              "      <td>1.00</td>\n",
              "      <td>2.058637</td>\n",
              "      <td>22.673795</td>\n",
              "      <td>77.070580</td>\n",
              "      <td>NaN</td>\n",
              "      <td>NaN</td>\n",
              "      <td>2.042448</td>\n",
              "      <td>22.486819</td>\n",
              "      <td>75.567966</td>\n",
              "    </tr>\n",
              "    <tr>\n",
              "      <th>3</th>\n",
              "      <td>1.05</td>\n",
              "      <td>4.791102</td>\n",
              "      <td>48.082647</td>\n",
              "      <td>508.177036</td>\n",
              "      <td>1026.443943</td>\n",
              "      <td>1022.327943</td>\n",
              "      <td>4.477815</td>\n",
              "      <td>43.084442</td>\n",
              "      <td>411.952459</td>\n",
              "    </tr>\n",
              "    <tr>\n",
              "      <th>4</th>\n",
              "      <td>1.10</td>\n",
              "      <td>34.356756</td>\n",
              "      <td>424.318827</td>\n",
              "      <td>7524.723611</td>\n",
              "      <td>16706.063273</td>\n",
              "      <td>16701.947273</td>\n",
              "      <td>25.681430</td>\n",
              "      <td>305.916796</td>\n",
              "      <td>5256.647074</td>\n",
              "    </tr>\n",
              "    <tr>\n",
              "      <th>5</th>\n",
              "      <td>1.15</td>\n",
              "      <td>49.796251</td>\n",
              "      <td>414.913423</td>\n",
              "      <td>-188.108078</td>\n",
              "      <td>-18363.884974</td>\n",
              "      <td>-18368.000974</td>\n",
              "      <td>43.967489</td>\n",
              "      <td>380.328983</td>\n",
              "      <td>1488.243739</td>\n",
              "    </tr>\n",
              "    <tr>\n",
              "      <th>6</th>\n",
              "      <td>1.20</td>\n",
              "      <td>62.386606</td>\n",
              "      <td>369.464680</td>\n",
              "      <td>-908.974869</td>\n",
              "      <td>-1716.349502</td>\n",
              "      <td>-1720.465502</td>\n",
              "      <td>59.427344</td>\n",
              "      <td>378.840452</td>\n",
              "      <td>-29.770608</td>\n",
              "    </tr>\n",
              "    <tr>\n",
              "      <th>7</th>\n",
              "      <td>1.25</td>\n",
              "      <td>78.268977</td>\n",
              "      <td>364.368800</td>\n",
              "      <td>-101.917596</td>\n",
              "      <td>1921.564936</td>\n",
              "      <td>1917.448936</td>\n",
              "      <td>75.015865</td>\n",
              "      <td>368.593912</td>\n",
              "      <td>-204.930796</td>\n",
              "    </tr>\n",
              "    <tr>\n",
              "      <th>8</th>\n",
              "      <td>1.30</td>\n",
              "      <td>93.819919</td>\n",
              "      <td>349.339953</td>\n",
              "      <td>-300.576939</td>\n",
              "      <td>-472.998436</td>\n",
              "      <td>-477.114436</td>\n",
              "      <td>90.461673</td>\n",
              "      <td>350.810223</td>\n",
              "      <td>-355.673791</td>\n",
              "    </tr>\n",
              "    <tr>\n",
              "      <th>9</th>\n",
              "      <td>1.35</td>\n",
              "      <td>108.836916</td>\n",
              "      <td>326.363247</td>\n",
              "      <td>-459.534131</td>\n",
              "      <td>-378.469504</td>\n",
              "      <td>-382.585504</td>\n",
              "      <td>105.550431</td>\n",
              "      <td>326.366702</td>\n",
              "      <td>-488.870426</td>\n",
              "    </tr>\n",
              "    <tr>\n",
              "      <th>10</th>\n",
              "      <td>1.40</td>\n",
              "      <td>123.199988</td>\n",
              "      <td>296.571557</td>\n",
              "      <td>-595.833801</td>\n",
              "      <td>-324.523025</td>\n",
              "      <td>-328.639025</td>\n",
              "      <td>120.095903</td>\n",
              "      <td>295.920269</td>\n",
              "      <td>-608.928653</td>\n",
              "    </tr>\n",
              "    <tr>\n",
              "      <th>11</th>\n",
              "      <td>1.45</td>\n",
              "      <td>136.864909</td>\n",
              "      <td>303.877829</td>\n",
              "      <td>146.125457</td>\n",
              "      <td>1766.569662</td>\n",
              "      <td>1762.453662</td>\n",
              "      <td>133.994320</td>\n",
              "      <td>304.778685</td>\n",
              "      <td>177.168313</td>\n",
              "    </tr>\n",
              "    <tr>\n",
              "      <th>12</th>\n",
              "      <td>1.50</td>\n",
              "      <td>150.366034</td>\n",
              "      <td>294.075711</td>\n",
              "      <td>-196.042367</td>\n",
              "      <td>-814.685296</td>\n",
              "      <td>-818.801296</td>\n",
              "      <td>147.635279</td>\n",
              "      <td>296.370265</td>\n",
              "      <td>-168.168380</td>\n",
              "    </tr>\n",
              "    <tr>\n",
              "      <th>13</th>\n",
              "      <td>1.55</td>\n",
              "      <td>163.149530</td>\n",
              "      <td>284.745865</td>\n",
              "      <td>-186.596927</td>\n",
              "      <td>22.489143</td>\n",
              "      <td>18.373143</td>\n",
              "      <td>160.862684</td>\n",
              "      <td>288.790300</td>\n",
              "      <td>-151.599309</td>\n",
              "    </tr>\n",
              "    <tr>\n",
              "      <th>14</th>\n",
              "      <td>1.60</td>\n",
              "      <td>175.438508</td>\n",
              "      <td>275.333232</td>\n",
              "      <td>-188.252663</td>\n",
              "      <td>-3.942228</td>\n",
              "      <td>-8.058228</td>\n",
              "      <td>173.669544</td>\n",
              "      <td>281.495726</td>\n",
              "      <td>-145.891471</td>\n",
              "    </tr>\n",
              "    <tr>\n",
              "      <th>15</th>\n",
              "      <td>1.65</td>\n",
              "      <td>188.736448</td>\n",
              "      <td>266.737812</td>\n",
              "      <td>-171.908395</td>\n",
              "      <td>38.914926</td>\n",
              "      <td>34.798926</td>\n",
              "      <td>186.098095</td>\n",
              "      <td>274.448929</td>\n",
              "      <td>-140.935957</td>\n",
              "    </tr>\n",
              "    <tr>\n",
              "      <th>16</th>\n",
              "      <td>1.70</td>\n",
              "      <td>202.478127</td>\n",
              "      <td>260.807511</td>\n",
              "      <td>-118.606015</td>\n",
              "      <td>126.910427</td>\n",
              "      <td>122.794427</td>\n",
              "      <td>198.282892</td>\n",
              "      <td>267.704902</td>\n",
              "      <td>-134.880523</td>\n",
              "    </tr>\n",
              "    <tr>\n",
              "      <th>17</th>\n",
              "      <td>1.75</td>\n",
              "      <td>215.540062</td>\n",
              "      <td>255.790507</td>\n",
              "      <td>-100.340081</td>\n",
              "      <td>43.490320</td>\n",
              "      <td>39.374320</td>\n",
              "      <td>210.261254</td>\n",
              "      <td>261.380766</td>\n",
              "      <td>-126.482724</td>\n",
              "    </tr>\n",
              "    <tr>\n",
              "      <th>18</th>\n",
              "      <td>1.80</td>\n",
              "      <td>228.038454</td>\n",
              "      <td>250.571971</td>\n",
              "      <td>-104.370728</td>\n",
              "      <td>-9.596778</td>\n",
              "      <td>-13.712778</td>\n",
              "      <td>222.016089</td>\n",
              "      <td>255.424394</td>\n",
              "      <td>-119.127451</td>\n",
              "    </tr>\n",
              "    <tr>\n",
              "      <th>19</th>\n",
              "      <td>1.85</td>\n",
              "      <td>239.312581</td>\n",
              "      <td>245.279894</td>\n",
              "      <td>-105.841524</td>\n",
              "      <td>-3.501897</td>\n",
              "      <td>-7.617897</td>\n",
              "      <td>233.544133</td>\n",
              "      <td>249.747297</td>\n",
              "      <td>-113.541929</td>\n",
              "    </tr>\n",
              "    <tr>\n",
              "      <th>20</th>\n",
              "      <td>1.90</td>\n",
              "      <td>250.077732</td>\n",
              "      <td>239.276872</td>\n",
              "      <td>-120.060446</td>\n",
              "      <td>-33.854576</td>\n",
              "      <td>-37.970576</td>\n",
              "      <td>244.813119</td>\n",
              "      <td>244.297086</td>\n",
              "      <td>-109.004233</td>\n",
              "    </tr>\n",
              "    <tr>\n",
              "      <th>21</th>\n",
              "      <td>1.95</td>\n",
              "      <td>259.540145</td>\n",
              "      <td>233.287047</td>\n",
              "      <td>-119.796506</td>\n",
              "      <td>0.628429</td>\n",
              "      <td>-3.487571</td>\n",
              "      <td>255.829720</td>\n",
              "      <td>239.016383</td>\n",
              "      <td>-105.614042</td>\n",
              "    </tr>\n",
              "    <tr>\n",
              "      <th>22</th>\n",
              "      <td>2.00</td>\n",
              "      <td>267.960802</td>\n",
              "      <td>226.863647</td>\n",
              "      <td>-128.467999</td>\n",
              "      <td>-20.646412</td>\n",
              "      <td>-24.762412</td>\n",
              "      <td>266.576596</td>\n",
              "      <td>233.887265</td>\n",
              "      <td>-102.582365</td>\n",
              "    </tr>\n",
              "    <tr>\n",
              "      <th>23</th>\n",
              "      <td>2.05</td>\n",
              "      <td>276.310311</td>\n",
              "      <td>220.182843</td>\n",
              "      <td>-133.616081</td>\n",
              "      <td>-12.257338</td>\n",
              "      <td>-16.373338</td>\n",
              "      <td>277.045097</td>\n",
              "      <td>228.872915</td>\n",
              "      <td>-100.287009</td>\n",
              "    </tr>\n",
              "    <tr>\n",
              "      <th>24</th>\n",
              "      <td>2.10</td>\n",
              "      <td>285.048034</td>\n",
              "      <td>214.156385</td>\n",
              "      <td>-120.529153</td>\n",
              "      <td>31.159352</td>\n",
              "      <td>27.043352</td>\n",
              "      <td>287.270159</td>\n",
              "      <td>223.949992</td>\n",
              "      <td>-98.458455</td>\n",
              "    </tr>\n",
              "    <tr>\n",
              "      <th>25</th>\n",
              "      <td>2.15</td>\n",
              "      <td>294.221388</td>\n",
              "      <td>209.156525</td>\n",
              "      <td>-99.997205</td>\n",
              "      <td>48.885590</td>\n",
              "      <td>44.769590</td>\n",
              "      <td>297.301859</td>\n",
              "      <td>219.136670</td>\n",
              "      <td>-96.266445</td>\n",
              "    </tr>\n",
              "    <tr>\n",
              "      <th>26</th>\n",
              "      <td>2.20</td>\n",
              "      <td>303.519449</td>\n",
              "      <td>204.818210</td>\n",
              "      <td>-86.766298</td>\n",
              "      <td>31.502161</td>\n",
              "      <td>27.386161</td>\n",
              "      <td>307.169359</td>\n",
              "      <td>214.474709</td>\n",
              "      <td>-93.239220</td>\n",
              "    </tr>\n",
              "    <tr>\n",
              "      <th>27</th>\n",
              "      <td>2.25</td>\n",
              "      <td>313.244675</td>\n",
              "      <td>200.930735</td>\n",
              "      <td>-77.749500</td>\n",
              "      <td>21.468566</td>\n",
              "      <td>17.352566</td>\n",
              "      <td>316.889918</td>\n",
              "      <td>209.965202</td>\n",
              "      <td>-90.190132</td>\n",
              "    </tr>\n",
              "    <tr>\n",
              "      <th>28</th>\n",
              "      <td>2.30</td>\n",
              "      <td>323.102971</td>\n",
              "      <td>197.454627</td>\n",
              "      <td>-69.522156</td>\n",
              "      <td>19.588913</td>\n",
              "      <td>15.472913</td>\n",
              "      <td>326.478630</td>\n",
              "      <td>205.603560</td>\n",
              "      <td>-87.232838</td>\n",
              "    </tr>\n",
              "    <tr>\n",
              "      <th>29</th>\n",
              "      <td>2.35</td>\n",
              "      <td>332.832835</td>\n",
              "      <td>194.185654</td>\n",
              "      <td>-65.379463</td>\n",
              "      <td>9.863555</td>\n",
              "      <td>5.747555</td>\n",
              "      <td>335.940384</td>\n",
              "      <td>201.386699</td>\n",
              "      <td>-84.337225</td>\n",
              "    </tr>\n",
              "    <tr>\n",
              "      <th>30</th>\n",
              "      <td>2.40</td>\n",
              "      <td>342.295077</td>\n",
              "      <td>191.123459</td>\n",
              "      <td>-61.243900</td>\n",
              "      <td>9.846580</td>\n",
              "      <td>5.730580</td>\n",
              "      <td>345.280634</td>\n",
              "      <td>197.308929</td>\n",
              "      <td>-81.555409</td>\n",
              "    </tr>\n",
              "    <tr>\n",
              "      <th>31</th>\n",
              "      <td>2.45</td>\n",
              "      <td>351.614301</td>\n",
              "      <td>188.056886</td>\n",
              "      <td>-61.331451</td>\n",
              "      <td>-0.208456</td>\n",
              "      <td>-4.324456</td>\n",
              "      <td>354.495022</td>\n",
              "      <td>193.367250</td>\n",
              "      <td>-78.833570</td>\n",
              "    </tr>\n",
              "    <tr>\n",
              "      <th>32</th>\n",
              "      <td>2.50</td>\n",
              "      <td>360.597593</td>\n",
              "      <td>184.869961</td>\n",
              "      <td>-63.738517</td>\n",
              "      <td>-5.731109</td>\n",
              "      <td>-9.847109</td>\n",
              "      <td>363.574037</td>\n",
              "      <td>189.549014</td>\n",
              "      <td>-76.364732</td>\n",
              "    </tr>\n",
              "    <tr>\n",
              "      <th>33</th>\n",
              "      <td>2.55</td>\n",
              "      <td>369.459837</td>\n",
              "      <td>181.566809</td>\n",
              "      <td>-66.063032</td>\n",
              "      <td>-5.534559</td>\n",
              "      <td>-9.650559</td>\n",
              "      <td>372.508847</td>\n",
              "      <td>185.836420</td>\n",
              "      <td>-74.251878</td>\n",
              "    </tr>\n",
              "    <tr>\n",
              "      <th>34</th>\n",
              "      <td>2.60</td>\n",
              "      <td>378.411363</td>\n",
              "      <td>178.363570</td>\n",
              "      <td>-64.064774</td>\n",
              "      <td>4.757756</td>\n",
              "      <td>0.641756</td>\n",
              "      <td>381.301856</td>\n",
              "      <td>182.217664</td>\n",
              "      <td>-72.375114</td>\n",
              "    </tr>\n",
              "    <tr>\n",
              "      <th>35</th>\n",
              "      <td>2.65</td>\n",
              "      <td>387.207017</td>\n",
              "      <td>175.652112</td>\n",
              "      <td>-54.229169</td>\n",
              "      <td>23.418108</td>\n",
              "      <td>19.302108</td>\n",
              "      <td>389.975366</td>\n",
              "      <td>178.697542</td>\n",
              "      <td>-70.402447</td>\n",
              "    </tr>\n",
              "    <tr>\n",
              "      <th>36</th>\n",
              "      <td>2.70</td>\n",
              "      <td>395.953114</td>\n",
              "      <td>172.943909</td>\n",
              "      <td>-54.164059</td>\n",
              "      <td>0.155024</td>\n",
              "      <td>-3.960976</td>\n",
              "      <td>398.527526</td>\n",
              "      <td>175.300605</td>\n",
              "      <td>-67.938740</td>\n",
              "    </tr>\n",
              "    <tr>\n",
              "      <th>37</th>\n",
              "      <td>2.75</td>\n",
              "      <td>404.484742</td>\n",
              "      <td>170.264006</td>\n",
              "      <td>-53.598062</td>\n",
              "      <td>1.347611</td>\n",
              "      <td>-2.768389</td>\n",
              "      <td>406.958030</td>\n",
              "      <td>172.023250</td>\n",
              "      <td>-65.547091</td>\n",
              "    </tr>\n",
              "    <tr>\n",
              "      <th>38</th>\n",
              "      <td>2.80</td>\n",
              "      <td>412.840383</td>\n",
              "      <td>167.630127</td>\n",
              "      <td>-52.677566</td>\n",
              "      <td>2.191656</td>\n",
              "      <td>-1.924344</td>\n",
              "      <td>415.267701</td>\n",
              "      <td>168.852490</td>\n",
              "      <td>-63.415197</td>\n",
              "    </tr>\n",
              "    <tr>\n",
              "      <th>39</th>\n",
              "      <td>2.85</td>\n",
              "      <td>421.204147</td>\n",
              "      <td>165.070260</td>\n",
              "      <td>-51.197347</td>\n",
              "      <td>3.524333</td>\n",
              "      <td>-0.591667</td>\n",
              "      <td>423.458980</td>\n",
              "      <td>165.789330</td>\n",
              "      <td>-61.263209</td>\n",
              "    </tr>\n",
              "    <tr>\n",
              "      <th>40</th>\n",
              "      <td>2.90</td>\n",
              "      <td>429.445230</td>\n",
              "      <td>162.585401</td>\n",
              "      <td>-49.697185</td>\n",
              "      <td>3.571813</td>\n",
              "      <td>-0.544187</td>\n",
              "      <td>431.534530</td>\n",
              "      <td>162.838198</td>\n",
              "      <td>-59.022639</td>\n",
              "    </tr>\n",
              "    <tr>\n",
              "      <th>41</th>\n",
              "      <td>2.95</td>\n",
              "      <td>437.368353</td>\n",
              "      <td>160.057025</td>\n",
              "      <td>-50.567518</td>\n",
              "      <td>-2.072221</td>\n",
              "      <td>-6.188221</td>\n",
              "      <td>439.491232</td>\n",
              "      <td>159.993199</td>\n",
              "      <td>-56.899978</td>\n",
              "    </tr>\n",
              "    <tr>\n",
              "      <th>42</th>\n",
              "      <td>3.00</td>\n",
              "      <td>445.094525</td>\n",
              "      <td>157.405396</td>\n",
              "      <td>-53.032582</td>\n",
              "      <td>-5.869199</td>\n",
              "      <td>-9.985199</td>\n",
              "      <td>447.322105</td>\n",
              "      <td>157.240579</td>\n",
              "      <td>-55.052399</td>\n",
              "    </tr>\n",
              "    <tr>\n",
              "      <th>43</th>\n",
              "      <td>3.05</td>\n",
              "      <td>452.719307</td>\n",
              "      <td>154.721404</td>\n",
              "      <td>-53.679838</td>\n",
              "      <td>-1.541085</td>\n",
              "      <td>-5.657085</td>\n",
              "      <td>455.024812</td>\n",
              "      <td>154.570905</td>\n",
              "      <td>-53.393478</td>\n",
              "    </tr>\n",
              "    <tr>\n",
              "      <th>44</th>\n",
              "      <td>3.10</td>\n",
              "      <td>460.530755</td>\n",
              "      <td>152.204473</td>\n",
              "      <td>-50.338626</td>\n",
              "      <td>7.955266</td>\n",
              "      <td>3.839266</td>\n",
              "      <td>462.607068</td>\n",
              "      <td>151.980079</td>\n",
              "      <td>-51.816525</td>\n",
              "    </tr>\n",
              "    <tr>\n",
              "      <th>45</th>\n",
              "      <td>3.15</td>\n",
              "      <td>468.180412</td>\n",
              "      <td>150.033079</td>\n",
              "      <td>-43.427883</td>\n",
              "      <td>16.454150</td>\n",
              "      <td>12.338150</td>\n",
              "      <td>470.085576</td>\n",
              "      <td>149.470924</td>\n",
              "      <td>-50.183094</td>\n",
              "    </tr>\n",
              "    <tr>\n",
              "      <th>46</th>\n",
              "      <td>3.20</td>\n",
              "      <td>475.636788</td>\n",
              "      <td>147.920330</td>\n",
              "      <td>-42.254971</td>\n",
              "      <td>2.792646</td>\n",
              "      <td>-1.323354</td>\n",
              "      <td>477.462754</td>\n",
              "      <td>147.051383</td>\n",
              "      <td>-48.390822</td>\n",
              "    </tr>\n",
              "    <tr>\n",
              "      <th>47</th>\n",
              "      <td>3.25</td>\n",
              "      <td>483.019056</td>\n",
              "      <td>145.656650</td>\n",
              "      <td>-45.273605</td>\n",
              "      <td>-7.187223</td>\n",
              "      <td>-11.303223</td>\n",
              "      <td>484.730587</td>\n",
              "      <td>144.722513</td>\n",
              "      <td>-46.577408</td>\n",
              "    </tr>\n",
              "    <tr>\n",
              "      <th>48</th>\n",
              "      <td>3.30</td>\n",
              "      <td>490.336881</td>\n",
              "      <td>143.519828</td>\n",
              "      <td>-42.736431</td>\n",
              "      <td>6.040891</td>\n",
              "      <td>1.924891</td>\n",
              "      <td>491.894994</td>\n",
              "      <td>142.696014</td>\n",
              "      <td>-40.529976</td>\n",
              "    </tr>\n",
              "    <tr>\n",
              "      <th>49</th>\n",
              "      <td>3.35</td>\n",
              "      <td>497.489129</td>\n",
              "      <td>141.566308</td>\n",
              "      <td>-39.070395</td>\n",
              "      <td>8.728658</td>\n",
              "      <td>4.612658</td>\n",
              "      <td>498.964748</td>\n",
              "      <td>140.738183</td>\n",
              "      <td>-39.156626</td>\n",
              "    </tr>\n",
              "  </tbody>\n",
              "</table>\n",
              "</div>"
            ],
            "text/plain": [
              "    Time    Altitude  ...  Velocity_Deployed  Acceleration_Deployed\n",
              "0   0.90    0.006173  ...                NaN                    NaN\n",
              "1   0.95    0.958636  ...          18.708421                    NaN\n",
              "2   1.00    2.058637  ...          22.486819              75.567966\n",
              "3   1.05    4.791102  ...          43.084442             411.952459\n",
              "4   1.10   34.356756  ...         305.916796            5256.647074\n",
              "5   1.15   49.796251  ...         380.328983            1488.243739\n",
              "6   1.20   62.386606  ...         378.840452             -29.770608\n",
              "7   1.25   78.268977  ...         368.593912            -204.930796\n",
              "8   1.30   93.819919  ...         350.810223            -355.673791\n",
              "9   1.35  108.836916  ...         326.366702            -488.870426\n",
              "10  1.40  123.199988  ...         295.920269            -608.928653\n",
              "11  1.45  136.864909  ...         304.778685             177.168313\n",
              "12  1.50  150.366034  ...         296.370265            -168.168380\n",
              "13  1.55  163.149530  ...         288.790300            -151.599309\n",
              "14  1.60  175.438508  ...         281.495726            -145.891471\n",
              "15  1.65  188.736448  ...         274.448929            -140.935957\n",
              "16  1.70  202.478127  ...         267.704902            -134.880523\n",
              "17  1.75  215.540062  ...         261.380766            -126.482724\n",
              "18  1.80  228.038454  ...         255.424394            -119.127451\n",
              "19  1.85  239.312581  ...         249.747297            -113.541929\n",
              "20  1.90  250.077732  ...         244.297086            -109.004233\n",
              "21  1.95  259.540145  ...         239.016383            -105.614042\n",
              "22  2.00  267.960802  ...         233.887265            -102.582365\n",
              "23  2.05  276.310311  ...         228.872915            -100.287009\n",
              "24  2.10  285.048034  ...         223.949992             -98.458455\n",
              "25  2.15  294.221388  ...         219.136670             -96.266445\n",
              "26  2.20  303.519449  ...         214.474709             -93.239220\n",
              "27  2.25  313.244675  ...         209.965202             -90.190132\n",
              "28  2.30  323.102971  ...         205.603560             -87.232838\n",
              "29  2.35  332.832835  ...         201.386699             -84.337225\n",
              "30  2.40  342.295077  ...         197.308929             -81.555409\n",
              "31  2.45  351.614301  ...         193.367250             -78.833570\n",
              "32  2.50  360.597593  ...         189.549014             -76.364732\n",
              "33  2.55  369.459837  ...         185.836420             -74.251878\n",
              "34  2.60  378.411363  ...         182.217664             -72.375114\n",
              "35  2.65  387.207017  ...         178.697542             -70.402447\n",
              "36  2.70  395.953114  ...         175.300605             -67.938740\n",
              "37  2.75  404.484742  ...         172.023250             -65.547091\n",
              "38  2.80  412.840383  ...         168.852490             -63.415197\n",
              "39  2.85  421.204147  ...         165.789330             -61.263209\n",
              "40  2.90  429.445230  ...         162.838198             -59.022639\n",
              "41  2.95  437.368353  ...         159.993199             -56.899978\n",
              "42  3.00  445.094525  ...         157.240579             -55.052399\n",
              "43  3.05  452.719307  ...         154.570905             -53.393478\n",
              "44  3.10  460.530755  ...         151.980079             -51.816525\n",
              "45  3.15  468.180412  ...         149.470924             -50.183094\n",
              "46  3.20  475.636788  ...         147.051383             -48.390822\n",
              "47  3.25  483.019056  ...         144.722513             -46.577408\n",
              "48  3.30  490.336881  ...         142.696014             -40.529976\n",
              "49  3.35  497.489129  ...         140.738183             -39.156626\n",
              "\n",
              "[50 rows x 9 columns]"
            ]
          },
          "metadata": {
            "tags": []
          },
          "execution_count": 286
        }
      ]
    },
    {
      "cell_type": "code",
      "metadata": {
        "id": "H6Mq9QyhkfXe"
      },
      "source": [
        ""
      ],
      "execution_count": null,
      "outputs": []
    }
  ]
}